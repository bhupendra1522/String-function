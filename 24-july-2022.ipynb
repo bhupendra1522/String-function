{
 "cells": [
  {
   "cell_type": "markdown",
   "id": "194d1920",
   "metadata": {},
   "source": [
    "string functions"
   ]
  },
  {
   "cell_type": "code",
   "execution_count": 1,
   "id": "f1de3544",
   "metadata": {},
   "outputs": [],
   "source": [
    "word=\"computer\""
   ]
  },
  {
   "cell_type": "code",
   "execution_count": 2,
   "id": "045db331",
   "metadata": {},
   "outputs": [
    {
     "data": {
      "text/plain": [
       "'computer'"
      ]
     },
     "execution_count": 2,
     "metadata": {},
     "output_type": "execute_result"
    }
   ],
   "source": [
    "word"
   ]
  },
  {
   "cell_type": "code",
   "execution_count": 4,
   "id": "7f0601dc",
   "metadata": {},
   "outputs": [
    {
     "data": {
      "text/plain": [
       "'COMPUTER'"
      ]
     },
     "execution_count": 4,
     "metadata": {},
     "output_type": "execute_result"
    }
   ],
   "source": [
    "word.upper()"
   ]
  },
  {
   "cell_type": "code",
   "execution_count": 8,
   "id": "7e30f134",
   "metadata": {},
   "outputs": [],
   "source": [
    "word1=\"MOBILE\""
   ]
  },
  {
   "cell_type": "code",
   "execution_count": 9,
   "id": "93f401d7",
   "metadata": {},
   "outputs": [
    {
     "data": {
      "text/plain": [
       "'MOBILE'"
      ]
     },
     "execution_count": 9,
     "metadata": {},
     "output_type": "execute_result"
    }
   ],
   "source": [
    "word1"
   ]
  },
  {
   "cell_type": "code",
   "execution_count": 12,
   "id": "7c9f7916",
   "metadata": {},
   "outputs": [
    {
     "data": {
      "text/plain": [
       "'mobile'"
      ]
     },
     "execution_count": 12,
     "metadata": {},
     "output_type": "execute_result"
    }
   ],
   "source": [
    "word1.lower()"
   ]
  },
  {
   "cell_type": "code",
   "execution_count": 14,
   "id": "002c9e8f",
   "metadata": {},
   "outputs": [],
   "source": [
    "word2=\"TeSla\""
   ]
  },
  {
   "cell_type": "code",
   "execution_count": 15,
   "id": "1dcf8d5b",
   "metadata": {},
   "outputs": [
    {
     "data": {
      "text/plain": [
       "'tEsLA'"
      ]
     },
     "execution_count": 15,
     "metadata": {},
     "output_type": "execute_result"
    }
   ],
   "source": [
    "word2.swapcase()"
   ]
  },
  {
   "cell_type": "code",
   "execution_count": 16,
   "id": "89dde75f",
   "metadata": {},
   "outputs": [
    {
     "data": {
      "text/plain": [
       "'lenovo'"
      ]
     },
     "execution_count": 16,
     "metadata": {},
     "output_type": "execute_result"
    }
   ],
   "source": [
    "string1=\"LENOVO\"\n",
    "string1.lower()"
   ]
  },
  {
   "cell_type": "code",
   "execution_count": 17,
   "id": "826752e2",
   "metadata": {},
   "outputs": [
    {
     "data": {
      "text/plain": [
       "'lenovo'"
      ]
     },
     "execution_count": 17,
     "metadata": {},
     "output_type": "execute_result"
    }
   ],
   "source": [
    "a=string1.lower()\n",
    "a"
   ]
  },
  {
   "cell_type": "code",
   "execution_count": 20,
   "id": "8ac2439c",
   "metadata": {},
   "outputs": [
    {
     "data": {
      "text/plain": [
       "'PLANETS'"
      ]
     },
     "execution_count": 20,
     "metadata": {},
     "output_type": "execute_result"
    }
   ],
   "source": [
    "string2=\"planets\"\n",
    "b=string2.upper()\n",
    "b"
   ]
  },
  {
   "cell_type": "code",
   "execution_count": 21,
   "id": "fca17bb6",
   "metadata": {},
   "outputs": [],
   "source": [
    "string3=\"mAtRiX\""
   ]
  },
  {
   "cell_type": "code",
   "execution_count": 23,
   "id": "97eba60c",
   "metadata": {},
   "outputs": [],
   "source": [
    "c=string3.swapcase()"
   ]
  },
  {
   "cell_type": "code",
   "execution_count": 24,
   "id": "e13d3d4d",
   "metadata": {},
   "outputs": [
    {
     "data": {
      "text/plain": [
       "'MaTrIx'"
      ]
     },
     "execution_count": 24,
     "metadata": {},
     "output_type": "execute_result"
    }
   ],
   "source": [
    "c"
   ]
  },
  {
   "cell_type": "code",
   "execution_count": 25,
   "id": "766ca1c5",
   "metadata": {},
   "outputs": [],
   "source": [
    "string4=\"mars\""
   ]
  },
  {
   "cell_type": "code",
   "execution_count": 27,
   "id": "80e332e3",
   "metadata": {},
   "outputs": [
    {
     "data": {
      "text/plain": [
       "'Mars'"
      ]
     },
     "execution_count": 27,
     "metadata": {},
     "output_type": "execute_result"
    }
   ],
   "source": [
    "string4.capitalize()"
   ]
  },
  {
   "cell_type": "code",
   "execution_count": 3,
   "id": "d82ef409",
   "metadata": {},
   "outputs": [],
   "source": [
    "string5=\"data science\""
   ]
  },
  {
   "cell_type": "code",
   "execution_count": 4,
   "id": "2832880d",
   "metadata": {},
   "outputs": [
    {
     "data": {
      "text/plain": [
       "'data science'"
      ]
     },
     "execution_count": 4,
     "metadata": {},
     "output_type": "execute_result"
    }
   ],
   "source": [
    "string5"
   ]
  },
  {
   "cell_type": "code",
   "execution_count": 5,
   "id": "6ea75ba5",
   "metadata": {},
   "outputs": [
    {
     "data": {
      "text/plain": [
       "'there are many galaxies in univers'"
      ]
     },
     "execution_count": 5,
     "metadata": {},
     "output_type": "execute_result"
    }
   ],
   "source": [
    "string6=\"there are many galaxies in univers\"\n",
    "string6"
   ]
  },
  {
   "cell_type": "code",
   "execution_count": 6,
   "id": "b1e40427",
   "metadata": {},
   "outputs": [
    {
     "data": {
      "text/plain": [
       "'There Are Many Galaxies In Univers'"
      ]
     },
     "execution_count": 6,
     "metadata": {},
     "output_type": "execute_result"
    }
   ],
   "source": [
    "string6.title()"
   ]
  },
  {
   "cell_type": "code",
   "execution_count": 7,
   "id": "6063c7a0",
   "metadata": {},
   "outputs": [],
   "source": [
    "word4=\"mars rover\""
   ]
  },
  {
   "cell_type": "code",
   "execution_count": 8,
   "id": "d5a5acd6",
   "metadata": {},
   "outputs": [
    {
     "data": {
      "text/plain": [
       "'mars rover'"
      ]
     },
     "execution_count": 8,
     "metadata": {},
     "output_type": "execute_result"
    }
   ],
   "source": [
    "word4"
   ]
  },
  {
   "cell_type": "code",
   "execution_count": 9,
   "id": "c62e2d49",
   "metadata": {},
   "outputs": [
    {
     "data": {
      "text/plain": [
       "'Mars rover'"
      ]
     },
     "execution_count": 9,
     "metadata": {},
     "output_type": "execute_result"
    }
   ],
   "source": [
    "word4.capitalize()"
   ]
  },
  {
   "cell_type": "code",
   "execution_count": 10,
   "id": "ff0e1125",
   "metadata": {},
   "outputs": [
    {
     "data": {
      "text/plain": [
       "'Mars Rover'"
      ]
     },
     "execution_count": 10,
     "metadata": {},
     "output_type": "execute_result"
    }
   ],
   "source": [
    "word4.title()"
   ]
  },
  {
   "cell_type": "code",
   "execution_count": 11,
   "id": "fe6d0b11",
   "metadata": {},
   "outputs": [
    {
     "data": {
      "text/plain": [
       "'elone musk is a ceo of tesla'"
      ]
     },
     "execution_count": 11,
     "metadata": {},
     "output_type": "execute_result"
    }
   ],
   "source": [
    "word5=\"elone musk is a ceo of tesla\"\n",
    "\n",
    "word5"
   ]
  },
  {
   "cell_type": "code",
   "execution_count": 12,
   "id": "16e2ab97",
   "metadata": {},
   "outputs": [
    {
     "data": {
      "text/plain": [
       "'Elone musk is a ceo of tesla'"
      ]
     },
     "execution_count": 12,
     "metadata": {},
     "output_type": "execute_result"
    }
   ],
   "source": [
    "word5.capitalize()"
   ]
  },
  {
   "cell_type": "code",
   "execution_count": 13,
   "id": "498b07aa",
   "metadata": {},
   "outputs": [
    {
     "data": {
      "text/plain": [
       "'Elone Musk Is A Ceo Of Tesla'"
      ]
     },
     "execution_count": 13,
     "metadata": {},
     "output_type": "execute_result"
    }
   ],
   "source": [
    "word5.title()"
   ]
  },
  {
   "cell_type": "code",
   "execution_count": 14,
   "id": "36145d8b",
   "metadata": {},
   "outputs": [
    {
     "data": {
      "text/plain": [
       "'there are many galaxies in univers'"
      ]
     },
     "execution_count": 14,
     "metadata": {},
     "output_type": "execute_result"
    }
   ],
   "source": [
    "string6"
   ]
  },
  {
   "cell_type": "code",
   "execution_count": 16,
   "id": "7c4671aa",
   "metadata": {},
   "outputs": [
    {
     "data": {
      "text/plain": [
       "['there', 'are', 'many', 'galaxies', 'in', 'univers']"
      ]
     },
     "execution_count": 16,
     "metadata": {},
     "output_type": "execute_result"
    }
   ],
   "source": [
    "string6.split()"
   ]
  },
  {
   "cell_type": "code",
   "execution_count": null,
   "id": "d3f62a14",
   "metadata": {},
   "outputs": [],
   "source": [
    "word"
   ]
  }
 ],
 "metadata": {
  "kernelspec": {
   "display_name": "Python 3 (ipykernel)",
   "language": "python",
   "name": "python3"
  },
  "language_info": {
   "codemirror_mode": {
    "name": "ipython",
    "version": 3
   },
   "file_extension": ".py",
   "mimetype": "text/x-python",
   "name": "python",
   "nbconvert_exporter": "python",
   "pygments_lexer": "ipython3",
   "version": "3.9.12"
  }
 },
 "nbformat": 4,
 "nbformat_minor": 5
}
